{
 "cells": [
  {
   "cell_type": "code",
   "execution_count": 10,
   "metadata": {},
   "outputs": [
    {
     "name": "stdout",
     "output_type": "stream",
     "text": [
      "^C\n",
      "Note: you may need to restart the kernel to use updated packages.\n"
     ]
    },
    {
     "name": "stdout",
     "output_type": "stream",
     "text": [
      "Requirement already satisfied: duckdb in c:\\users\\zz00ol808\\appdata\\local\\anaconda3\\lib\\site-packages (1.0.0)\n"
     ]
    }
   ],
   "source": [
    "%pip install duckdb"
   ]
  },
  {
   "cell_type": "code",
   "execution_count": null,
   "metadata": {},
   "outputs": [],
   "source": [
    "import os\n",
    "import subprocess\n",
    "import shutil\n",
    "from datetime import datetime\n",
    "\n",
    "def run_dbt_command(command):\n",
    "    \"\"\"\n",
    "    Run a dbt commands\n",
    "    \"\"\"\n",
    "    try:\n",
    "        result = subprocess.run(command, shell=True, check=True, stdout=subprocess.PIPE, stderr=subprocess.PIPE)\n",
    "        print(\"Command Output:\\n\", result.stdout.decode())\n",
    "    except subprocess.CalledProcessError as e:\n",
    "        print(f\"Error running command: {e}\")\n",
    "        print(\"Command Output:\\n\", e.stdout.decode())\n",
    "        print(\"Command Error:\\n\", e.stderr.decode())\n",
    "        return False\n",
    "    return True\n",
    "\n",
    "def main():\n",
    "    # Directrs for moving files\n",
    "    source_dir = r'C:\\Users\\ZZ00OL808\\xeneta_cs\\data\\files_to_load\\input_files'\n",
    "    destination_root_dir = r'C:\\Users\\ZZ00OL808\\xeneta_cs\\data\\files_to_load\\input_files\\loaded'\n",
    "\n",
    "    # Create a new directryt with date\n",
    "    current_date = datetime.now().strftime('%Y-%m-%d')\n",
    "    destination_dir = os.path.join(destination_root_dir, current_date)\n",
    "    os.makedirs(destination_dir, exist_ok=True)\n",
    "\n",
    "    # dbt models \n",
    "    dbt_commands = [\n",
    "        \"dbt run --models raw\",\n",
    "        \"dbt run --models staging\",\n",
    "        \"dbt run --models final\"\n",
    "    ]\n",
    "\n",
    "    # Run the dbt commands\n",
    "    for dbt_command in dbt_commands:\n",
    "        print(f\"Running: {dbt_command}\")\n",
    "        if not run_dbt_command(dbt_command):\n",
    "            print(\"Aborting further execution due to error.\")\n",
    "            return\n",
    "\n",
    "    # Copy files for ref\n",
    "    for filename in os.listdir(source_dir):\n",
    "        if filename.startswith('DE_casestudy_'):\n",
    "            source_file = os.path.join(source_dir, filename)\n",
    "            destination_file = os.path.join(destination_dir, filename)\n",
    "            shutil.copy(source_file, destination_file)\n",
    "            print(f'Done: {source_file} -> {destination_file}')\n",
    "\n",
    "    print('All files have been moved.')\n",
    "\n",
    "if __name__ == \"__main__\":\n",
    "    main()\n"
   ]
  },
  {
   "cell_type": "code",
   "execution_count": null,
   "metadata": {},
   "outputs": [],
   "source": []
  }
 ],
 "metadata": {
  "kernelspec": {
   "display_name": "base",
   "language": "python",
   "name": "python3"
  },
  "language_info": {
   "codemirror_mode": {
    "name": "ipython",
    "version": 3
   },
   "file_extension": ".py",
   "mimetype": "text/x-python",
   "name": "python",
   "nbconvert_exporter": "python",
   "pygments_lexer": "ipython3",
   "version": "3.10.9"
  }
 },
 "nbformat": 4,
 "nbformat_minor": 2
}
