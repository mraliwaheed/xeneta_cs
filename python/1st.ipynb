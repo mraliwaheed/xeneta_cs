{
 "cells": [
  {
   "cell_type": "code",
   "execution_count": 10,
   "metadata": {},
   "outputs": [
    {
     "name": "stdout",
     "output_type": "stream",
     "text": [
      "Requirement already satisfied: duckdb in c:\\users\\zz00ol808\\appdata\\local\\anaconda3\\lib\\site-packages (1.0.0)\n",
      "Note: you may need to restart the kernel to use updated packages.\n",
      "Requirement already satisfied: numpy in c:\\users\\zz00ol808\\appdata\\local\\anaconda3\\lib\\site-packages (1.23.5)\n",
      "Note: you may need to restart the kernel to use updated packages.\n",
      "Requirement already satisfied: pandas in c:\\users\\zz00ol808\\appdata\\local\\anaconda3\\lib\\site-packages (1.5.3)\n",
      "Requirement already satisfied: pytz>=2020.1 in c:\\users\\zz00ol808\\appdata\\local\\anaconda3\\lib\\site-packages (from pandas) (2022.7)\n",
      "Requirement already satisfied: python-dateutil>=2.8.1 in c:\\users\\zz00ol808\\appdata\\local\\anaconda3\\lib\\site-packages (from pandas) (2.8.2)\n",
      "Requirement already satisfied: numpy>=1.21.0 in c:\\users\\zz00ol808\\appdata\\local\\anaconda3\\lib\\site-packages (from pandas) (1.23.5)\n",
      "Requirement already satisfied: six>=1.5 in c:\\users\\zz00ol808\\appdata\\local\\anaconda3\\lib\\site-packages (from python-dateutil>=2.8.1->pandas) (1.16.0)\n",
      "Note: you may need to restart the kernel to use updated packages.\n",
      "Schemas created in DuckDB:\n",
      "['information_schema', 'main', 'pg_catalog', 'information_schema', 'main', 'pg_catalog', 'final', 'information_schema', 'main', 'main_raw', 'pg_catalog', 'raw', 'staging']\n"
     ]
    }
   ],
   "source": [
    "%pip install duckdb\n",
    "%pip install numpy\n",
    "%pip install pandas\n",
    "\n",
    "\n",
    "import duckdb \n",
    "import numpy \n",
    "import pandas\n",
    "import os\n",
    "import subprocess\n",
    "\n",
    "con = duckdb.connect('/Users/ZZ00OL808/xeneta_cs/db/xeneta.duckdb')\n",
    "# Create schemas\n",
    "con.execute(\"CREATE SCHEMA IF NOT EXISTS raw;\")\n",
    "con.execute(\"CREATE SCHEMA IF NOT EXISTS staging;\")\n",
    "con.execute(\"CREATE SCHEMA IF NOT EXISTS final;\")\n",
    "# Check if schemas there\n",
    "def check_schemas(con):\n",
    "    schemas_query = \"SELECT schema_name FROM information_schema.schemata\"\n",
    "    schemas = con.execute(schemas_query).fetchall()\n",
    "    return [schema[0] for schema in schemas]\n",
    "############################\n",
    "# Get list of schemas\n",
    "created_schemas = check_schemas(con)\n",
    "print(\"Schemas created in DuckDB:\")\n",
    "print(created_schemas)\n",
    "\n",
    "\n",
    "################################################################################################################"
   ]
  },
  {
   "cell_type": "code",
   "execution_count": null,
   "metadata": {},
   "outputs": [],
   "source": []
  },
  {
   "cell_type": "code",
   "execution_count": 16,
   "metadata": {},
   "outputs": [
    {
     "name": "stdout",
     "output_type": "stream",
     "text": [
      "Command Output:\n",
      " \u001b[0m15:42:10  Running with dbt=1.8.3\n",
      "\u001b[0m15:42:11  Registered adapter: duckdb=1.8.1\n",
      "\u001b[0m15:42:11  [\u001b[33mWARNING\u001b[0m]: Configuration paths exist in your dbt_project.yml file which do not apply to any resources.\n",
      "There are 2 unused configuration paths:\n",
      "- models.xeneta_cs.final\n",
      "- models.xeneta_cs.staging\n",
      "\u001b[0m15:42:11  Found 7 models, 4 data tests, 408 macros\n",
      "\u001b[0m15:42:11  \n",
      "\u001b[0m15:42:12  Concurrency: 1 threads (target='dev')\n",
      "\u001b[0m15:42:12  \n",
      "\u001b[0m15:42:12  1 of 5 START sql table model main_raw.charges_1 ................................ [RUN]\n",
      "\u001b[0m15:42:12  1 of 5 OK created sql table model main_raw.charges_1 ........................... [\u001b[32mOK\u001b[0m in 0.33s]\n",
      "\u001b[0m15:42:12  2 of 5 START sql table model main_raw.datapoints_1 ............................. [RUN]\n",
      "\u001b[0m15:42:12  2 of 5 OK created sql table model main_raw.datapoints_1 ........................ [\u001b[32mOK\u001b[0m in 0.36s]\n",
      "\u001b[0m15:42:12  3 of 5 START sql table model main_raw.exchange_rates ........................... [RUN]\n",
      "\u001b[0m15:42:13  3 of 5 OK created sql table model main_raw.exchange_rates ...................... [\u001b[32mOK\u001b[0m in 0.23s]\n",
      "\u001b[0m15:42:13  4 of 5 START sql table model main_raw.ports .................................... [RUN]\n",
      "\u001b[0m15:42:13  4 of 5 OK created sql table model main_raw.ports ............................... [\u001b[32mOK\u001b[0m in 0.10s]\n",
      "\u001b[0m15:42:13  5 of 5 START sql table model main_raw.regions .................................. [RUN]\n",
      "\u001b[0m15:42:13  5 of 5 OK created sql table model main_raw.regions ............................. [\u001b[32mOK\u001b[0m in 0.11s]\n",
      "\u001b[0m15:42:13  \n",
      "\u001b[0m15:42:13  Finished running 5 table models in 0 hours 0 minutes and 1.59 seconds (1.59s).\n",
      "\u001b[0m15:42:13  \n",
      "\u001b[0m15:42:13  \u001b[32mCompleted successfully\u001b[0m\n",
      "\u001b[0m15:42:13  \n",
      "\u001b[0m15:42:13  Done. PASS=5 WARN=0 ERROR=0 SKIP=0 TOTAL=5\n",
      "\n"
     ]
    }
   ],
   "source": [
    "con.close()\n",
    "\n",
    "def run_dbt_command(command):\n",
    "    \"\"\"\n",
    "    Run a dbt command using subprocess and handle errors.\n",
    "    \"\"\"\n",
    "    try:\n",
    "        result = subprocess.run(command, shell=True, check=True, stdout=subprocess.PIPE, stderr=subprocess.PIPE)\n",
    "        print(\"Command Output:\\n\", result.stdout.decode())\n",
    "    except subprocess.CalledProcessError as e:\n",
    "        print(f\"Error running command: {e}\")\n",
    "        print(\"Command Output:\\n\", e.stdout.decode())\n",
    "        print(\"Command Error:\\n\", e.stderr.decode())\n",
    "        raise\n",
    "\n",
    "def main():\n",
    "    # Set up the dbt command to run the models in the raw schema\n",
    "    dbt_command = \"dbt run --models raw\"\n",
    "    \n",
    "    # Run the dbt command\n",
    "    run_dbt_command(dbt_command)\n",
    "\n",
    "if __name__ == \"__main__\":\n",
    "    main()\n",
    "    \n",
    "con.close()"
   ]
  },
  {
   "cell_type": "code",
   "execution_count": 27,
   "metadata": {},
   "outputs": [
    {
     "name": "stdout",
     "output_type": "stream",
     "text": [
      "Command Output:\n",
      " \u001b[0m23:53:01  Running with dbt=1.8.3\n",
      "\u001b[0m23:53:01  Registered adapter: duckdb=1.8.1\n",
      "\u001b[0m23:53:03  [\u001b[33mWARNING\u001b[0m]: Configuration paths exist in your dbt_project.yml file which do not apply to any resources.\n",
      "There are 1 unused configuration paths:\n",
      "- models.xeneta_cs.final\n",
      "\u001b[0m23:53:03  Found 12 models, 4 data tests, 2 sources, 408 macros\n",
      "\u001b[0m23:53:03  \n",
      "\u001b[0m23:53:06  Concurrency: 1 threads (target='dev')\n",
      "\u001b[0m23:53:06  \n",
      "\u001b[0m23:53:06  1 of 5 START sql table model main_staging.charges .............................. [RUN]\n",
      "\u001b[0m23:53:07  1 of 5 OK created sql table model main_staging.charges ......................... [\u001b[32mOK\u001b[0m in 0.19s]\n",
      "\u001b[0m23:53:07  2 of 5 START sql table model main_staging.datapoints ........................... [RUN]\n",
      "\u001b[0m23:53:07  2 of 5 OK created sql table model main_staging.datapoints ...................... [\u001b[32mOK\u001b[0m in 0.11s]\n",
      "\u001b[0m23:53:07  3 of 5 START sql table model main_staging.datapoint_charges .................... [RUN]\n",
      "\u001b[0m23:53:07  3 of 5 OK created sql table model main_staging.datapoint_charges ............... [\u001b[32mOK\u001b[0m in 0.17s]\n",
      "\u001b[0m23:53:07  4 of 5 START sql table model main_staging.charges_usd .......................... [RUN]\n",
      "\u001b[0m23:53:08  4 of 5 OK created sql table model main_staging.charges_usd ..................... [\u001b[32mOK\u001b[0m in 1.55s]\n",
      "\u001b[0m23:53:08  5 of 5 START sql table model main_staging.daily_prices ......................... [RUN]\n",
      "\u001b[0m23:53:09  5 of 5 OK created sql table model main_staging.daily_prices .................... [\u001b[32mOK\u001b[0m in 0.41s]\n",
      "\u001b[0m23:53:09  \n",
      "\u001b[0m23:53:09  Finished running 5 table models in 0 hours 0 minutes and 5.69 seconds (5.69s).\n",
      "\u001b[0m23:53:09  \n",
      "\u001b[0m23:53:09  \u001b[32mCompleted successfully\u001b[0m\n",
      "\u001b[0m23:53:09  \n",
      "\u001b[0m23:53:09  Done. PASS=5 WARN=0 ERROR=0 SKIP=0 TOTAL=5\n",
      "\n"
     ]
    }
   ],
   "source": [
    "   # Set up the dbt command to run the models in the raw schema\n",
    "con.close()\n",
    "\n",
    "dbt_command = \"dbt run --models staging\"\n",
    "    \n",
    "    # Run the dbt command\n",
    "run_dbt_command(dbt_command)"
   ]
  },
  {
   "cell_type": "code",
   "execution_count": 28,
   "metadata": {},
   "outputs": [
    {
     "name": "stdout",
     "output_type": "stream",
     "text": [
      "Command Output:\n",
      " \u001b[0m00:10:54  Running with dbt=1.8.3\n",
      "\u001b[0m00:10:55  Registered adapter: duckdb=1.8.1\n",
      "\u001b[0m00:10:55  Found 14 models, 4 data tests, 2 sources, 408 macros\n",
      "\u001b[0m00:10:55  \n",
      "\u001b[0m00:10:56  Concurrency: 1 threads (target='dev')\n",
      "\u001b[0m00:10:56  \n",
      "\u001b[0m00:10:56  1 of 2 START sql table model main_final.daily_aggregated_prices ................ [RUN]\n",
      "\u001b[0m00:10:57  1 of 2 OK created sql table model main_final.daily_aggregated_prices ........... [\u001b[32mOK\u001b[0m in 0.47s]\n",
      "\u001b[0m00:10:57  2 of 2 START sql table model main_final.prices_all ............................. [RUN]\n",
      "\u001b[0m00:10:57  2 of 2 OK created sql table model main_final.prices_all ........................ [\u001b[32mOK\u001b[0m in 0.15s]\n",
      "\u001b[0m00:10:57  \n",
      "\u001b[0m00:10:57  Finished running 2 table models in 0 hours 0 minutes and 1.23 seconds (1.23s).\n",
      "\u001b[0m00:10:57  \n",
      "\u001b[0m00:10:57  \u001b[32mCompleted successfully\u001b[0m\n",
      "\u001b[0m00:10:57  \n",
      "\u001b[0m00:10:57  Done. PASS=2 WARN=0 ERROR=0 SKIP=0 TOTAL=2\n",
      "\n"
     ]
    }
   ],
   "source": [
    "dbt_command = \"dbt run --models final\"\n",
    "    \n",
    "    # Run the dbt command\n",
    "run_dbt_command(dbt_command)"
   ]
  },
  {
   "cell_type": "code",
   "execution_count": 34,
   "metadata": {},
   "outputs": [],
   "source": [
    "dbt_command = \"dbt run --models increment\"\n",
    "    \n",
    "    # Run the dbt command\n",
    "run_dbt_command(dbt_command)"
   ]
  },
  {
   "cell_type": "code",
   "execution_count": 17,
   "metadata": {},
   "outputs": [
    {
     "name": "stdout",
     "output_type": "stream",
     "text": [
      "\n",
      "Main Raw.Ports Table:\n",
      "   PID   CODE               SLUG             NAME        COUNTRY COUNTRY_CODE\n",
      "0  681  USTIW   washington_ports       Tacoma, WA  United States           US\n",
      "1  504  USPDX      north_america     Portland, OR  United States           US\n",
      "2  587  USOAK      us_west_coast      Oakland, CA  United States           US\n",
      "3  218  USLGB  los_angeles_ports   Long Beach, CA  United States           US\n",
      "4  638  USLAX  los_angeles_ports  Los Angeles, CA  United States           US\n",
      "\n",
      "Main Raw.Regions Table:\n",
      "                SLUG               NAME         PARENT\n",
      "0               asia               Asia           None\n",
      "1  canada_west_coast  Canada West Coast  north_america\n",
      "2    china_east_main    China East Main     china_main\n",
      "3   china_north_main   China North Main     china_main\n",
      "4   china_south_main   China South Main     china_main\n",
      "\n",
      "Main Raw.Exchange Rates Table:\n",
      "         DAY CURRENCY        RATE\n",
      "0 2021-01-01      NOK    8.633010\n",
      "1 2021-01-01      NPR  117.485776\n",
      "2 2021-01-01      NZD    1.412085\n",
      "3 2021-01-01      OMR    0.384976\n",
      "4 2021-01-01      PAB    1.000000\n",
      "\n",
      "Main Raw.Datapoints 1 Table:\n",
      "        D_ID                 CREATED  ORIGIN_PID  DESTINATION_PID VALID_FROM  \\\n",
      "0  374820218 2021-03-15 14:07:32.651         912              308 2021-03-15   \n",
      "1  386650836 2021-05-05 17:28:32.621         191              308 2021-05-01   \n",
      "2  374820619 2021-03-15 14:07:32.651         796              678 2021-03-15   \n",
      "3  377441159 2021-04-09 12:44:32.524         218              723 2021-04-01   \n",
      "4  383374456 2021-04-23 12:13:28.648         266              504 2021-04-15   \n",
      "\n",
      "    VALID_TO  COMPANY_ID  SUPPLIER_ID  EQUIPMENT_ID  \n",
      "0 2021-03-31        2469         1023             4  \n",
      "1 2021-05-14        3564           53             1  \n",
      "2 2021-03-31        2469         1023             4  \n",
      "3 2021-04-30        4023           40             2  \n",
      "4 2021-04-30        2548           53             2  \n",
      "\n",
      "Main Raw.Charges 1 Table:\n",
      "        D_ID CURRENCY  CHARGE_VALUE\n",
      "0  381811145      USD          4590\n",
      "1  381811145      USD           270\n",
      "2  381811145      USD           650\n",
      "3  381812474      USD          -468\n",
      "4  381812474      USD           512\n"
     ]
    }
   ],
   "source": [
    "# Connect  DuckDB\n",
    "con = duckdb.connect('/Users/ZZ00OL808/xeneta_cs/db/xeneta.duckdb')\n",
    "\n",
    "# Function to check table data with columns\n",
    "def print_table_data(con, table_name):\n",
    "        \n",
    "    query = f\"SELECT * FROM {table_name} LIMIT 5\"\n",
    "    df = con.execute(query).fetchdf()\n",
    "    print(f\"\\n{table_name.replace('_', ' ').title()} Table:\")\n",
    "    print(df)\n",
    "\n",
    "# All tables in list\n",
    "tables = [\n",
    "   \"main_raw.ports\",\n",
    "    \"main_raw.regions\",\n",
    "   \"main_raw.exchange_rates\",\n",
    "    \"main_raw.datapoints_1\",\n",
    "    \"main_raw.charges_1\"\n",
    "]\n",
    "\n",
    "# Print data from each table\n",
    "for table in tables:\n",
    "    print_table_data(con, table)\n",
    "\n",
    "# Close connection\n",
    "con.close()"
   ]
  },
  {
   "cell_type": "code",
   "execution_count": 14,
   "metadata": {},
   "outputs": [
    {
     "name": "stdout",
     "output_type": "stream",
     "text": [
      "Tables in 'raw' schema:\n",
      "charges_1\n",
      "datapoints_1\n",
      "exchange_rates\n",
      "ports\n",
      "regions\n"
     ]
    }
   ],
   "source": [
    "# Execute SQL queries\n",
    "    # Example: List all tables in the 'main_raw' schema\n",
    "con = duckdb.connect('/Users/ZZ00OL808/xeneta_cs/db/xeneta.duckdb')\n",
    "tables = con.execute(\"\"\"SELECT table_name FROM information_schema.tables WHERE table_schema = 'main_raw';\"\"\").fetchall()\n",
    "\n",
    "    \n",
    "print(\"Tables in 'raw' schema:\")\n",
    "for table in tables:\n",
    "     print(table[0])"
   ]
  },
  {
   "cell_type": "code",
   "execution_count": null,
   "metadata": {},
   "outputs": [],
   "source": []
  }
 ],
 "metadata": {
  "kernelspec": {
   "display_name": "Python 3",
   "language": "python",
   "name": "python3"
  },
  "language_info": {
   "codemirror_mode": {
    "name": "ipython",
    "version": 3
   },
   "file_extension": ".py",
   "mimetype": "text/x-python",
   "name": "python",
   "nbconvert_exporter": "python",
   "pygments_lexer": "ipython3",
   "version": "3.10.9"
  }
 },
 "nbformat": 4,
 "nbformat_minor": 2
}
